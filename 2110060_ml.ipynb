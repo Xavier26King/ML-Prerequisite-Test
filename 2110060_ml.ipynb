{
  "nbformat": 4,
  "nbformat_minor": 0,
  "metadata": {
    "colab": {
      "provenance": [],
      "authorship_tag": "ABX9TyMvJ8cW7PyyM1L5BGtazmPv",
      "include_colab_link": true
    },
    "kernelspec": {
      "name": "python3",
      "display_name": "Python 3"
    },
    "language_info": {
      "name": "python"
    }
  },
  "cells": [
    {
      "cell_type": "markdown",
      "metadata": {
        "id": "view-in-github",
        "colab_type": "text"
      },
      "source": [
        "<a href=\"https://colab.research.google.com/github/Xavier26King/ML-Prerequisite-Test/blob/main/2110060_ml.ipynb\" target=\"_parent\"><img src=\"https://colab.research.google.com/assets/colab-badge.svg\" alt=\"Open In Colab\"/></a>"
      ]
    },
    {
      "cell_type": "code",
      "source": [
        "import time\n",
        "import numpy as np\n",
        "from typing import List\n",
        "import sympy as sp\n",
        "import pandas as pd\n",
        "import jax\n",
        "import jax.numpy as jnp\n",
        "from dataclasses import dataclass, field, asdict\n",
        "from typing import Dict, List, Optional\n",
        "import matplotlib.pyplot as plt"
      ],
      "metadata": {
        "id": "0R-Op5QxKF0p"
      },
      "execution_count": 2,
      "outputs": []
    },
    {
      "cell_type": "markdown",
      "source": [
        "##Q1.\n",
        "How many multiplications and additions do you need to perform a matrix multiplication between a (n, k) and (k, m) matrix? Explain.\n",
        "\n",
        "---"
      ],
      "metadata": {
        "id": "4A1cepRLi7IF"
      }
    },
    {
      "cell_type": "markdown",
      "source": [],
      "metadata": {
        "id": "tM7JDb-PKEL8"
      }
    },
    {
      "cell_type": "markdown",
      "source": [
        "To compute the matrix multiplication of a matrix $A \\in \\mathbb{R}^{n \\times k}$ with a matrix $B \\in \\mathbb{R}^{k \\times m}$, resulting in a matrix $C = AB \\in \\mathbb{R}^{n \\times m}$, each entry $C_{ij}$ is computed as:\n",
        "\n",
        "\n",
        "$$\n",
        "C_{ij} = \\sum_{l=1}^{k} A_{il} \\cdot B_{lj}\n",
        "$$\n",
        "\n",
        "#### Number of Operations per Entry\n",
        "\n",
        "- **Multiplications**: \\( k \\)  \n",
        "- **Additions**: \\( k - 1 \\)\n",
        "\n",
        "\n",
        "#### Total Number of Entries in Output Matrix\n",
        "\n",
        "Since $C \\in \\mathbb{R}^{n \\times m}$, there are $n \\cdot m$ entries to compute.\n",
        "\n",
        "\n",
        "#### Total Number of Operations\n",
        "\n",
        "- **Total Multiplications**:  \n",
        "  $$\n",
        "  n \\cdot m \\cdot k\n",
        "  $$\n",
        "\n",
        "- **Total Additions**:  \n",
        "  $$\n",
        "  n \\cdot m \\cdot (k - 1)\n",
        "  $$"
      ],
      "metadata": {
        "id": "HeKE1G4xjG8D"
      }
    },
    {
      "cell_type": "markdown",
      "source": [
        "## Q2.\n",
        "Write Python code to multiply the above two matrices. Solve using list of lists and then use numpy. Compare the timing of both solutions. Which one is faster? Why?\n",
        "\n",
        "---"
      ],
      "metadata": {
        "id": "8WpN5geY18V-"
      }
    },
    {
      "cell_type": "code",
      "source": [
        "# Matrix Dimensions\n",
        "n, k, m = 100, 200, 150\n",
        "\n",
        "# Method1: Using list of lists\n",
        "# Random matrices A(n x k) and B(k x m)\n",
        "A = [[np.random.rand() for _ in range(k)] for _ in range(n)]\n",
        "B = [[np.random.rand() for _ in range(m)] for _ in range(k)]\n",
        "\n",
        "def matrix_multiply_list(A, B):\n",
        "    n, k = len(A), len(A[0])\n",
        "    k1, m = len(B), len(B[0])\n",
        "    assert k == k1\n",
        "\n",
        "    results = [[0 for _ in range(m)] for _ in range(n)]\n",
        "    for i in range(n):\n",
        "      for j in range(m):\n",
        "        for l in range(k):\n",
        "          results[i][j] += A[i][l]*B[l][j]\n",
        "\n",
        "    return results\n",
        "\n",
        "# C_list = matrix_multiply_list(A, B)\n",
        "# print(C_list)\n",
        "\n",
        "start_time = time.time()\n",
        "C_list = matrix_multiply_list(A, B)\n",
        "list_time = time.time() - start_time\n",
        "print(f\"Time taken for Method 1: {list_time} seconds\")\n",
        "\n",
        "# Method 2: Using numpy\n",
        "\n",
        "A_np = np.array(A)\n",
        "B_np = np.array(B)\n",
        "\n",
        "start_time = time.time()\n",
        "C_np = np.dot(A_np, B_np)\n",
        "np_time = time.time() - start_time\n",
        "print(f\"Time taken for Method 2: {np_time} seconds\")\n",
        "\n",
        "print(f\"Numpy is faster because it avoids for loop by operating whole array at once\")"
      ],
      "metadata": {
        "colab": {
          "base_uri": "https://localhost:8080/"
        },
        "id": "j9tLcBk_2fQd",
        "outputId": "6a838a03-38cc-403c-a025-f305af26c1d5"
      },
      "execution_count": 16,
      "outputs": [
        {
          "output_type": "stream",
          "name": "stdout",
          "text": [
            "Time taken for Method 1: 0.40406036376953125 seconds\n",
            "Time taken for Method 2: 0.0009295940399169922 seconds\n",
            "Numpy is faster because it avoids for loop by operating whole array at once\n"
          ]
        }
      ]
    },
    {
      "cell_type": "markdown",
      "source": [
        "##Q3.\n",
        "Finding the highest element in a list requires one pass of the array. Finding the second highest element requires 2 passes of the array. Using this method, what is the time complexity of finding the median of the array? Can you suggest a better method? Can you implement both these methods in Python and compare against numpy.median routine in terms of time?\n",
        "\n",
        "---"
      ],
      "metadata": {
        "id": "QxOHM3LsES2C"
      }
    },
    {
      "cell_type": "markdown",
      "source": [
        "To find the median, we need the middle element when sorted. For an array of size n, we need to find the (n/2)th largest element. Using this multiple passes method, we need n/2 passes through array and each pass takes O(n) time. So, the time complexity will be O(n^2). One another better approach is sort the entire array and find the middle element. It will take O(n logn)."
      ],
      "metadata": {
        "id": "j7YJM1jIIVxW"
      }
    },
    {
      "cell_type": "code",
      "source": [
        "def median_by_repeated_passes(arr):\n",
        "  n = len(arr)\n",
        "\n",
        "  def find_kth_largest(k):\n",
        "    prev_max = float('inf')\n",
        "    remaining = k\n",
        "    while True:\n",
        "      curr_max = float('-inf')\n",
        "      for val in arr:\n",
        "        if val<prev_max and val>curr_max:\n",
        "          curr_max = val\n",
        "      cnt = 0\n",
        "      for val in arr:\n",
        "        if val==curr_max:\n",
        "          cnt+=1\n",
        "      if cnt>=remaining:\n",
        "        return curr_max # If kth largest lies within the block of curr_max duplicates, then return the answer\n",
        "      remaining-=cnt # Otherwise, skip\n",
        "      prev_max = curr_max\n",
        "    return prev_max\n",
        "\n",
        "  if n%2==1:\n",
        "    return find_kth_largest(n//2+1)\n",
        "  else:\n",
        "    return (find_kth_largest(n//2+1)+find_kth_largest(n//2))/2\n",
        "\n",
        "\n",
        "def median_sort(arr):\n",
        "  sorted_arr = sorted(arr)\n",
        "  n = len(arr)\n",
        "  mid = n//2\n",
        "  if n%2==1:\n",
        "    return sorted_arr[mid]\n",
        "  else:\n",
        "    return (sorted_arr[mid]+sorted_arr[mid-1])/2\n",
        "\n",
        "def median_numpy(arr):\n",
        "  return np.median(arr)\n",
        "\n",
        "\n",
        "n=10001\n",
        "arr1 = [np.random.randint(1,10000) for _ in range(n)]\n",
        "\n",
        "start_time = time.time()\n",
        "print(median_by_repeated_passes(arr1))\n",
        "print(f\"median_k_passes: {time.time()-start_time}\")\n",
        "\n",
        "start_time = time.time()\n",
        "print(median_sort(arr1))\n",
        "print(f\"median_sort: {time.time()-start_time}\")\n",
        "\n",
        "start_time = time.time()\n",
        "print(median_numpy(arr1))\n",
        "print(f\"numpy: {time.time()-start_time}\")"
      ],
      "metadata": {
        "colab": {
          "base_uri": "https://localhost:8080/"
        },
        "id": "I0f172wqEZJH",
        "outputId": "7c2b9ed0-65e8-43f5-c4be-055aa9b1cef2"
      },
      "execution_count": 5,
      "outputs": [
        {
          "output_type": "stream",
          "name": "stdout",
          "text": [
            "5059\n",
            "median_k_passes: 1.9553465843200684\n",
            "5059\n",
            "median_sort: 0.0025849342346191406\n",
            "5059.0\n",
            "numpy: 0.0014760494232177734\n"
          ]
        }
      ]
    },
    {
      "cell_type": "markdown",
      "source": [
        "## Q4.\n",
        "What is the gradient of the following function with respect to x and y?\n",
        "\n",
        "$ x^2 y + y^3 \\sin(x)$\n",
        "\n",
        "---\n"
      ],
      "metadata": {
        "id": "YL2DJ2PrRsWh"
      }
    },
    {
      "cell_type": "markdown",
      "source": [
        "Let  \n",
        "f(x, y) = $ x^2 y + y^3 \\sin(x)$\n",
        "\n",
        "Then the gradient of \\( f \\) is:\n",
        "\n",
        "=\n",
        "\\begin{bmatrix}\n",
        "2xy + y^3 \\cos(x) \\\\\n",
        "x^2 + 3y^2 \\sin(x)\n",
        "\\end{bmatrix}\n",
        "\n"
      ],
      "metadata": {
        "id": "dVTCZ2ETYkXL"
      }
    },
    {
      "cell_type": "markdown",
      "source": [
        "## Q.5\n",
        "Use JAX to confirm the gradient evaluated by your method matches the analytical solution corresponding to a few random values of x and y.\n",
        "\n",
        "---"
      ],
      "metadata": {
        "id": "3rrj7LkXT14n"
      }
    },
    {
      "cell_type": "code",
      "source": [
        "import jax\n",
        "import jax.numpy as jnp\n",
        "\n",
        "# Define the function\n",
        "def f(x, y):\n",
        "    return x**2 * y + y**3 * jnp.sin(x)\n",
        "\n",
        "# Analytical gradient\n",
        "def grad_analytic(x, y):\n",
        "    dfdx = 2 * x * y + y**3 * jnp.cos(x)\n",
        "    dfdy = x**2 + 3 * y**2 * jnp.sin(x)\n",
        "    return dfdx, dfdy\n",
        "\n",
        "# JAX gradient\n",
        "f_wrapped = lambda vars: f(vars[0], vars[1])\n",
        "grad_jax = jax.grad(f_wrapped)\n",
        "\n",
        "# Test for a few random points\n",
        "points = [(1.0, 2.0), (-1.5, 0.5), (2.2, -1.1)]\n",
        "for x_val, y_val in points:\n",
        "    analytic = grad_analytic(x_val, y_val)\n",
        "    jax_grad = grad_jax(jnp.array([x_val, y_val]))\n",
        "    print(f\"x={x_val}, y={y_val}\")\n",
        "    print(\"Analytic:\", analytic)\n",
        "    print(\"JAX     :\", tuple(jax_grad))\n",
        "    print()\n"
      ],
      "metadata": {
        "colab": {
          "base_uri": "https://localhost:8080/"
        },
        "id": "6_y2nMekTwC2",
        "outputId": "bd7a1150-3014-4c0f-a043-eefd5dd659b4"
      },
      "execution_count": 6,
      "outputs": [
        {
          "output_type": "stream",
          "name": "stdout",
          "text": [
            "x=1.0, y=2.0\n",
            "Analytic: (Array(8.322418, dtype=float32, weak_type=True), Array(11.0976515, dtype=float32, weak_type=True))\n",
            "JAX     : (Array(8.322418, dtype=float32), Array(11.0976515, dtype=float32))\n",
            "\n",
            "x=-1.5, y=0.5\n",
            "Analytic: (Array(-1.4911579, dtype=float32, weak_type=True), Array(1.5018787, dtype=float32, weak_type=True))\n",
            "JAX     : (Array(-1.4911579, dtype=float32), Array(1.5018787, dtype=float32))\n",
            "\n",
            "x=2.2, y=-1.1\n",
            "Analytic: (Array(-4.056705, dtype=float32, weak_type=True), Array(7.7748423, dtype=float32, weak_type=True))\n",
            "JAX     : (Array(-4.056705, dtype=float32), Array(7.7748423, dtype=float32))\n",
            "\n"
          ]
        }
      ]
    },
    {
      "cell_type": "markdown",
      "source": [
        "## Q6.\n",
        "Use sympy to confirm that you obtain the same gradient analytically.\n",
        "\n",
        "---"
      ],
      "metadata": {
        "id": "snsIo6sxb-UT"
      }
    },
    {
      "cell_type": "code",
      "source": [
        "\n",
        "# Symbols\n",
        "x, y = sp.symbols('x y', real=True)\n",
        "\n",
        "# Function\n",
        "f = x**2 * y + y**3 * sp.sin(x)\n",
        "\n",
        "# SymPy gradient (analytical)\n",
        "df_dx_sym = sp.diff(f, x)\n",
        "df_dy_sym = sp.diff(f, y)\n",
        "\n",
        "# Your derived formulas\n",
        "df_dx_expected = 2*x*y + y**3 * sp.cos(x)\n",
        "df_dy_expected = x**2 + 3*y**2 * sp.sin(x)\n",
        "\n",
        "# Confirm symbolic equality (should simplify to 0)\n",
        "check_dx = sp.simplify(df_dx_sym - df_dx_expected)\n",
        "check_dy = sp.simplify(df_dy_sym - df_dy_expected)\n",
        "\n",
        "print(\"∂f/∂x (sympy):\", df_dx_sym)\n",
        "print(\"∂f/∂x (expected):\", df_dx_expected)\n",
        "\n",
        "print(\"\\n∂f/∂y (sympy):\", df_dy_sym)\n",
        "print(\"∂f/∂y (expected):\", df_dy_expected)\n"
      ],
      "metadata": {
        "colab": {
          "base_uri": "https://localhost:8080/"
        },
        "id": "I02_wm0vWrQB",
        "outputId": "11cf4a72-7a20-4c9b-81fe-fee863b8ded3"
      },
      "execution_count": 7,
      "outputs": [
        {
          "output_type": "stream",
          "name": "stdout",
          "text": [
            "∂f/∂x (sympy): 2*x*y + y**3*cos(x)\n",
            "∂f/∂x (expected): 2*x*y + y**3*cos(x)\n",
            "\n",
            "∂f/∂y (sympy): x**2 + 3*y**2*sin(x)\n",
            "∂f/∂y (expected): x**2 + 3*y**2*sin(x)\n"
          ]
        }
      ]
    },
    {
      "cell_type": "markdown",
      "source": [
        "## Q7.\n",
        "Create a Python nested dictionary to represent hierarchical information. We want to store record of students and their marks."
      ],
      "metadata": {
        "id": "OPasW1f0cOMO"
      }
    },
    {
      "cell_type": "code",
      "source": [
        "# Student Records - Nested Dictionary Structure\n",
        "\n",
        "student_records = {\n",
        "    2022: {\n",
        "        \"Branch 1\": {\n",
        "            1: {\n",
        "                \"name\": \"N\",\n",
        "                \"marks\": {\n",
        "                    \"Maths\": 100,\n",
        "                    \"English\": 70,\n",
        "                    \"Science\": 85,\n",
        "                    \"History\": 78\n",
        "                }\n",
        "            },\n",
        "            2: {\n",
        "                \"name\": \"Alice\",\n",
        "                \"marks\": {\n",
        "                    \"Maths\": 95,\n",
        "                    \"English\": 88,\n",
        "                    \"Science\": 92,\n",
        "                    \"History\": 85\n",
        "                }\n",
        "            },\n",
        "            3: {\n",
        "                \"name\": \"Bob\",\n",
        "                \"marks\": {\n",
        "                    \"Maths\": 87,\n",
        "                    \"English\": 79,\n",
        "                    \"Science\": 91,\n",
        "                    \"History\": 82\n",
        "                }\n",
        "            }\n",
        "        },\n",
        "        \"Branch 2\": {\n",
        "            1: {\n",
        "                \"name\": \"Charlie\",\n",
        "                \"marks\": {\n",
        "                    \"Physics\": 89,\n",
        "                    \"Chemistry\": 93,\n",
        "                    \"Biology\": 87,\n",
        "                    \"English\": 76\n",
        "                }\n",
        "            },\n",
        "            2: {\n",
        "                \"name\": \"Diana\",\n",
        "                \"marks\": {\n",
        "                    \"Physics\": 94,\n",
        "                    \"Chemistry\": 88,\n",
        "                    \"Biology\": 90,\n",
        "                    \"English\": 83\n",
        "                }\n",
        "            }\n",
        "        }\n",
        "    },\n",
        "    2023: {\n",
        "        \"Branch 1\": {\n",
        "            1: {\n",
        "                \"name\": \"Eve\",\n",
        "                \"marks\": {\n",
        "                    \"Maths\": 92,\n",
        "                    \"English\": 84,\n",
        "                    \"Science\": 89,\n",
        "                    \"History\": 81\n",
        "                }\n",
        "            },\n",
        "            2: {\n",
        "                \"name\": \"Frank\",\n",
        "                \"marks\": {\n",
        "                    \"Maths\": 88,\n",
        "                    \"English\": 91,\n",
        "                    \"Science\": 85,\n",
        "                    \"History\": 87\n",
        "                }\n",
        "            }\n",
        "        },\n",
        "        \"Branch 2\": {\n",
        "            1: {\n",
        "                \"name\": \"Grace\",\n",
        "                \"marks\": {\n",
        "                    \"Physics\": 91,\n",
        "                    \"Chemistry\": 86,\n",
        "                    \"Biology\": 94,\n",
        "                    \"English\": 79\n",
        "                }\n",
        "            }\n",
        "        }\n",
        "    },\n",
        "    2024: {\n",
        "        \"Branch 1\": {\n",
        "            1: {\n",
        "                \"name\": \"Henry\",\n",
        "                \"marks\": {\n",
        "                    \"Maths\": 96,\n",
        "                    \"English\": 82,\n",
        "                    \"Science\": 88,\n",
        "                    \"History\": 90\n",
        "                }\n",
        "            }\n",
        "        },\n",
        "        \"Branch 2\": {\n",
        "            1: {\n",
        "                \"name\": \"Ivy\",\n",
        "                \"marks\": {\n",
        "                    \"Physics\": 87,\n",
        "                    \"Chemistry\": 92,\n",
        "                    \"Biology\": 85,\n",
        "                    \"English\": 88\n",
        "                }\n",
        "            }\n",
        "        }\n",
        "    },\n",
        "    2025: {\n",
        "        \"Branch 1\": {\n",
        "            # Future students will be added here\n",
        "        },\n",
        "        \"Branch 2\": {\n",
        "            # Future students will be added here\n",
        "        }\n",
        "    }\n",
        "}\n",
        "\n",
        "# Utility functions to work with the student records\n",
        "\n",
        "def add_student(records, year, branch, roll_number, name, marks):\n",
        "    \"\"\"Add a new student to the records\"\"\"\n",
        "    if year not in records:\n",
        "        records[year] = {}\n",
        "    if branch not in records[year]:\n",
        "        records[year][branch] = {}\n",
        "\n",
        "    records[year][branch][roll_number] = {\n",
        "        \"name\": name,\n",
        "        \"marks\": marks\n",
        "    }\n",
        "\n",
        "def get_student(records, year, branch, roll_number):\n",
        "    \"\"\"Get a specific student's information\"\"\"\n",
        "    try:\n",
        "        return records[year][branch][roll_number]\n",
        "    except KeyError:\n",
        "        return None\n",
        "\n",
        "def get_all_students_in_branch(records, year, branch):\n",
        "    \"\"\"Get all students in a specific branch and year\"\"\"\n",
        "    try:\n",
        "        return records[year][branch]\n",
        "    except KeyError:\n",
        "        return {}\n",
        "\n",
        "# Example usage and demonstrations\n",
        "if __name__ == \"__main__\":\n",
        "    print(\"=== Student Records System ===\\n\")\n",
        "\n",
        "    # Display basic structure\n",
        "    print(\"1. Basic Structure:\")\n",
        "    print(\"student_records[year][branch][roll_number] = {'name': '...', 'marks': {...}}\")\n",
        "\n",
        "    # Add a new student\n",
        "    print(\"\\n3. Adding a new student:\")\n",
        "    add_student(student_records, 2025, \"Branch 1\", 1, \"John\", {\n",
        "        \"Maths\": 94,\n",
        "        \"English\": 87,\n",
        "        \"Science\": 91,\n",
        "        \"History\": 89\n",
        "    })\n",
        "    print(get_student(student_records, 2025, \"Branch 1\", 1))\n",
        "\n",
        "\n",
        "    # Get all students in a branch\n",
        "    print(\"\\n5. All students in 2022, Branch 1:\")\n",
        "    branch_students = get_all_students_in_branch(student_records, 2022, \"Branch 1\")\n",
        "    print(branch_students)\n",
        "\n",
        "    print(\"Data Structure Hierarchy\")\n",
        "    print(\"student_records = {\")\n",
        "    print(\"    year: {\")\n",
        "    print(\"        branch: {\")\n",
        "    print(\"            roll_number: {\")\n",
        "    print(\"                'name': 'student_name',\")\n",
        "    print(\"                'marks': {\")\n",
        "    print(\"                    'subject': marks\")\n",
        "    print(\"                }\")\n",
        "    print(\"            }\")\n",
        "    print(\"        }\")\n",
        "    print(\"    }\")\n",
        "    print(\"}\")"
      ],
      "metadata": {
        "colab": {
          "base_uri": "https://localhost:8080/"
        },
        "id": "URCjNGvEZAFQ",
        "outputId": "89b6cd67-b145-45bb-f675-b8ef2881e421"
      },
      "execution_count": 8,
      "outputs": [
        {
          "output_type": "stream",
          "name": "stdout",
          "text": [
            "=== Student Records System ===\n",
            "\n",
            "1. Basic Structure:\n",
            "student_records[year][branch][roll_number] = {'name': '...', 'marks': {...}}\n",
            "\n",
            "3. Adding a new student:\n",
            "{'name': 'John', 'marks': {'Maths': 94, 'English': 87, 'Science': 91, 'History': 89}}\n",
            "\n",
            "5. All students in 2022, Branch 1:\n",
            "{1: {'name': 'N', 'marks': {'Maths': 100, 'English': 70, 'Science': 85, 'History': 78}}, 2: {'name': 'Alice', 'marks': {'Maths': 95, 'English': 88, 'Science': 92, 'History': 85}}, 3: {'name': 'Bob', 'marks': {'Maths': 87, 'English': 79, 'Science': 91, 'History': 82}}}\n",
            "Data Structure Hierarchy\n",
            "student_records = {\n",
            "    year: {\n",
            "        branch: {\n",
            "            roll_number: {\n",
            "                'name': 'student_name',\n",
            "                'marks': {\n",
            "                    'subject': marks\n",
            "                }\n",
            "            }\n",
            "        }\n",
            "    }\n",
            "}\n"
          ]
        }
      ]
    },
    {
      "cell_type": "markdown",
      "source": [
        "## Q.8\n",
        "Store the same information using Python classes. We have an overall database which is a list of year objects. Each year contains a list of branches. Each branch contains a list of students. Each student has some properties like name, roll number and has marks in some subjects.\n",
        "\n",
        "---"
      ],
      "metadata": {
        "id": "ynEqCSLSgOPd"
      }
    },
    {
      "cell_type": "code",
      "source": [
        "\n",
        "@dataclass\n",
        "class Student:\n",
        "    roll: int\n",
        "    name: str\n",
        "    marks: Dict[str, int] = field(default_factory=dict)  # e.g. {\"Maths\": 100, \"English\": 70}\n",
        "\n",
        "\n",
        "@dataclass\n",
        "class Branch:\n",
        "    name: str\n",
        "    students: List[Student] = field(default_factory=list)\n",
        "\n",
        "    def add_student(self, student: Student) -> None:\n",
        "        self.students.append(student)\n",
        "\n",
        "    def get_student(self, roll: int) -> Optional[Student]:\n",
        "        return next((s for s in self.students if s.roll == roll), None)\n",
        "\n",
        "\n",
        "@dataclass\n",
        "class Year:\n",
        "    year: int\n",
        "    branches: List[Branch] = field(default_factory=list)\n",
        "\n",
        "    def add_branch(self, branch: Branch) -> None:\n",
        "        self.branches.append(branch)\n",
        "\n",
        "    def get_branch(self, name: str) -> Optional[Branch]:\n",
        "        return next((b for b in self.branches if b.name == name), None)\n",
        "\n",
        "\n",
        "Database = List[Year]\n",
        "\n",
        "# Pretty print (optional)\n",
        "def print_database(db: Database) -> None:\n",
        "    for i, yr in enumerate(sorted(db, key=lambda y: y.year)):\n",
        "        print(f\"{i+1}. {yr.year}\")\n",
        "        for j, br in enumerate(yr.branches, start=1):\n",
        "            print(f\"   {j}. {br.name}\")\n",
        "            for k, st in enumerate(br.students, start=1):\n",
        "                print(f\"      {k}. Roll Number: {st.roll}, Name: {st.name}, Marks:\")\n",
        "                for subj_i, (subj, score) in enumerate(st.marks.items(), start=1):\n",
        "                    print(f\"         {subj_i}. {subj}: {score}\")\n",
        "\n",
        "\n",
        "db: Database = []\n",
        "\n",
        "# 2022\n",
        "y2022 = Year(2022)\n",
        "b1_2022 = Branch(\"Branch 1\")\n",
        "b1_2022.add_student(Student(roll=1, name=\"N\", marks={\"Maths\": 100, \"English\": 70}))\n",
        "y2022.add_branch(b1_2022)\n",
        "y2022.add_branch(Branch(\"Branch 2\"))\n",
        "db.append(y2022)\n",
        "\n",
        "# 2023\n",
        "y2023 = Year(2023, branches=[Branch(\"Branch 1\"), Branch(\"Branch 2\")])\n",
        "db.append(y2023)\n",
        "\n",
        "# 2024\n",
        "y2024 = Year(2024, branches=[Branch(\"Branch 1\"), Branch(\"Branch 2\")])\n",
        "db.append(y2024)\n",
        "\n",
        "# 2025\n",
        "y2025 = Year(2025, branches=[Branch(\"Branch 1\"), Branch(\"Branch 2\")])\n",
        "db.append(y2025)\n",
        "\n",
        "# Demo print\n",
        "print_database(db)\n",
        "\n",
        "# Access examples:\n",
        "#   Find \"Branch 1\" in 2022, then student roll 1:\n",
        "student = next(y for y in db if y.year == 2022).get_branch(\"Branch 1\").get_student(1)\n",
        "print(student)\n",
        "#   Convert a student (or any dataclass) to a dict:\n",
        "student_dict = asdict(student)\n",
        "print(student_dict)\n"
      ],
      "metadata": {
        "colab": {
          "base_uri": "https://localhost:8080/"
        },
        "id": "xhEnyr45eSZH",
        "outputId": "c1a62a8a-c6be-4a0a-d66d-a2661a8a150b"
      },
      "execution_count": 9,
      "outputs": [
        {
          "output_type": "stream",
          "name": "stdout",
          "text": [
            "1. 2022\n",
            "   1. Branch 1\n",
            "      1. Roll Number: 1, Name: N, Marks:\n",
            "         1. Maths: 100\n",
            "         2. English: 70\n",
            "   2. Branch 2\n",
            "2. 2023\n",
            "   1. Branch 1\n",
            "   2. Branch 2\n",
            "3. 2024\n",
            "   1. Branch 1\n",
            "   2. Branch 2\n",
            "4. 2025\n",
            "   1. Branch 1\n",
            "   2. Branch 2\n",
            "Student(roll=1, name='N', marks={'Maths': 100, 'English': 70})\n",
            "{'roll': 1, 'name': 'N', 'marks': {'Maths': 100, 'English': 70}}\n"
          ]
        }
      ]
    },
    {
      "cell_type": "markdown",
      "source": [
        "## Q9.\n",
        "Using matplotlib plot the following functions on the domain: x = 0.5 to 100.0 in steps of 0.5.\n",
        "\n",
        "---"
      ],
      "metadata": {
        "id": "oT_8e4hlm5zr"
      }
    },
    {
      "cell_type": "code",
      "source": [
        "\n",
        "# Domain: x = 0.5 to 100.0 in steps of 0.5\n",
        "x = np.arange(0.5, 100.0 + 0.5, 0.5)\n",
        "\n",
        "# Functions\n",
        "y1 = x\n",
        "y2 = x**2\n",
        "y3 = x**3 / 100\n",
        "y4 = np.sin(x)\n",
        "y5 = np.sin(x) / x\n",
        "y6 = np.log(x)\n",
        "y7 = np.exp(x)\n",
        "\n",
        "# Plotting\n",
        "plt.figure(figsize=(12, 8))\n",
        "\n",
        "plt.plot(x, y1, label=r\"$y = x$\")\n",
        "plt.plot(x, y2, label=r\"$y = x^2$\")\n",
        "plt.plot(x, y3, label=r\"$y = \\frac{x^3}{100}$\")\n",
        "plt.plot(x, y4, label=r\"$y = \\sin(x)$\")\n",
        "plt.plot(x, y5, label=r\"$y = \\frac{\\sin(x)}{x}$\")\n",
        "plt.plot(x, y6, label=r\"$y = \\log(x)$\")\n",
        "\n",
        "# For y = e^x, values will grow extremely fast — limit x range for visibility\n",
        "plt.plot(x[x <= 5], np.exp(x[x <= 5]), label=r\"$y = e^x$ (x ≤ 5)\")\n",
        "\n",
        "plt.xlabel(\"x\")\n",
        "plt.ylabel(\"y\")\n",
        "plt.title(\"Various Functions\")\n",
        "plt.legend()\n",
        "plt.grid(True)\n",
        "plt.show()\n"
      ],
      "metadata": {
        "colab": {
          "base_uri": "https://localhost:8080/",
          "height": 718
        },
        "id": "XiLTrIWDlz7q",
        "outputId": "236c02ad-0ee9-460d-a7c5-ea5fbd80c8dc"
      },
      "execution_count": 10,
      "outputs": [
        {
          "output_type": "display_data",
          "data": {
            "text/plain": [
              "<Figure size 1200x800 with 1 Axes>"
            ],
            "image/png": "[encoded data removed]"
          },
          "metadata": {}
        }
      ]
    },
    {
      "cell_type": "markdown",
      "source": [
        "## Q.10\n",
        "Using numpy generate a matrix of size 20X5 containing random numbers drawn uniformly from the range of 1 to 2. Using Pandas create a dataframe out of this matrix. Name the columns of the dataframe as “a”, “b”, “c”, “d”, “e”. Find the column with the highest standard deviation. Find the row with the lowest mean.\n",
        "\n",
        "---"
      ],
      "metadata": {
        "id": "6ACCbixQo_8I"
      }
    },
    {
      "cell_type": "code",
      "source": [
        "# 20x5 matrix with random numbers uniformly from 1 to 2\n",
        "matrix = np.random.uniform(1, 2, size=(20, 5))\n",
        "\n",
        "df = pd.DataFrame(matrix, columns=[\"a\", \"b\", \"c\", \"d\", \"e\"])\n",
        "\n",
        "# Highest standard deviation\n",
        "col_with_max_std = df.std().idxmax()\n",
        "\n",
        "# the lowest mean\n",
        "row_with_min_mean = df.mean(axis=1).idxmin()\n",
        "\n",
        "print(\"DataFrame:\\n\", df)\n",
        "print(\"\\nColumn with highest standard deviation:\", col_with_max_std)\n",
        "print(\"Row index with lowest mean:\", row_with_min_mean)\n"
      ],
      "metadata": {
        "colab": {
          "base_uri": "https://localhost:8080/"
        },
        "id": "QIxYjTUXmuy9",
        "outputId": "f754b3d9-3c29-41a7-be03-9e3ad5b93959"
      },
      "execution_count": 11,
      "outputs": [
        {
          "output_type": "stream",
          "name": "stdout",
          "text": [
            "DataFrame:\n",
            "            a         b         c         d         e\n",
            "0   1.280548  1.565322  1.118579  1.749867  1.718710\n",
            "1   1.269046  1.675769  1.561019  1.728168  1.290901\n",
            "2   1.322295  1.729671  1.192294  1.072000  1.878950\n",
            "3   1.986980  1.750588  1.138563  1.741082  1.752123\n",
            "4   1.839784  1.581720  1.112238  1.409660  1.276158\n",
            "5   1.284006  1.208550  1.836440  1.488247  1.226054\n",
            "6   1.717393  1.844939  1.633748  1.088486  1.617752\n",
            "7   1.602286  1.414817  1.450065  1.094410  1.083160\n",
            "8   1.185486  1.366580  1.024973  1.448071  1.914627\n",
            "9   1.441161  1.385057  1.182832  1.952979  1.341042\n",
            "10  1.378167  1.598851  1.693075  1.957990  1.309186\n",
            "11  1.363584  1.931532  1.620302  1.213169  1.009206\n",
            "12  1.922513  1.576219  1.783291  1.513302  1.716672\n",
            "13  1.459087  1.988760  1.669211  1.513065  1.784982\n",
            "14  1.982832  1.420541  1.859896  1.566427  1.312217\n",
            "15  1.088788  1.761905  1.908562  1.564780  1.720173\n",
            "16  1.404219  1.027386  1.353512  1.114573  1.520648\n",
            "17  1.494937  1.742975  1.773413  1.724648  1.235032\n",
            "18  1.680026  1.142218  1.098844  1.082773  1.362527\n",
            "19  1.535527  1.470914  1.489302  1.624526  1.298759\n",
            "\n",
            "Column with highest standard deviation: c\n",
            "Row index with lowest mean: 18\n"
          ]
        }
      ]
    },
    {
      "cell_type": "markdown",
      "source": [
        "## Q.11\n",
        "Add a new column to the dataframe called “f” which is the sum of the columns “a”, “b”, “c”, “d”, “e”. Create another column called “g”. The value in the column “g” should be “LT8” if the value in the column “f” is less than 8 and “GT8” otherwise. Find the number of rows in the dataframe where the value in the column “g” is “LT8”. Find the standard deviation of the column “f” for the rows where the value in the column “g” is “LT8” and “GT8” respectively.\n",
        "\n",
        "---"
      ],
      "metadata": {
        "id": "RZzFfHldpGsk"
      }
    },
    {
      "cell_type": "code",
      "source": [
        "\n",
        "# f = a+b+c+d+e\n",
        "df[\"f\"] = df[[\"a\", \"b\", \"c\", \"d\", \"e\"]].sum(axis=1)\n",
        "\n",
        "# g = LT8 if f<8 else GT8\n",
        "df[\"g\"] = np.where(df[\"f\"] < 8, \"LT8\", \"GT8\")\n",
        "\n",
        "num_lt8 = (df[\"g\"] == \"LT8\").sum()\n",
        "\n",
        "# Std dev of f within each group\n",
        "std_by_g = df.groupby(\"g\")[\"f\"].std()   # sample std (ddof=1)\n",
        "std_lt8 = std_by_g.get(\"LT8\", float(\"nan\"))\n",
        "std_gt8 = std_by_g.get(\"GT8\", float(\"nan\"))\n",
        "\n",
        "print(\"Rows with g == 'LT8':\", num_lt8)\n",
        "print(\"Std(f) for LT8:\", std_lt8)\n",
        "print(\"Std(f) for GT8:\", std_gt8)\n"
      ],
      "metadata": {
        "colab": {
          "base_uri": "https://localhost:8080/"
        },
        "id": "r4PhhuJxo1_I",
        "outputId": "3c2ffa85-4a45-45fa-bafa-ebe1d67c4a58"
      },
      "execution_count": 12,
      "outputs": [
        {
          "output_type": "stream",
          "name": "stdout",
          "text": [
            "Rows with g == 'LT8': 15\n",
            "Std(f) for LT8: 0.5030921288984193\n",
            "Std(f) for GT8: 0.1958056349260745\n"
          ]
        }
      ]
    },
    {
      "cell_type": "markdown",
      "source": [
        "## Q.12\n",
        "Write a small piece of code to explain broadcasting in numpy."
      ],
      "metadata": {
        "id": "36-MIukbpkdz"
      }
    },
    {
      "cell_type": "code",
      "source": [
        "\n",
        "# Example arrays\n",
        "A = np.array([[1, 2, 3],\n",
        "              [4, 5, 6]])   # Shape: (2, 3)\n",
        "\n",
        "b = np.array([10, 20, 30])  # Shape: (3,)\n",
        "\n",
        "C = A + b\n",
        "\n",
        "print(\"A:\\n\", A)\n",
        "print(\"b:\\n\", b)\n",
        "print(\"A + b:\\n\", C)\n",
        "print(\"Shapes:\", A.shape, b.shape, C.shape)\n"
      ],
      "metadata": {
        "colab": {
          "base_uri": "https://localhost:8080/"
        },
        "id": "Z6IArJCcpVo8",
        "outputId": "7d666435-6153-4e31-9038-4d8f1d7e923a"
      },
      "execution_count": 13,
      "outputs": [
        {
          "output_type": "stream",
          "name": "stdout",
          "text": [
            "A:\n",
            " [[1 2 3]\n",
            " [4 5 6]]\n",
            "b:\n",
            " [10 20 30]\n",
            "A + b:\n",
            " [[11 22 33]\n",
            " [14 25 36]]\n",
            "Shapes: (2, 3) (3,) (2, 3)\n"
          ]
        }
      ]
    },
    {
      "cell_type": "markdown",
      "source": [
        "## Q.13\n",
        "Write a function to compute the argmin of a numpy array. The function should take a numpy array as input and return the index of the minimum element. You can use the np.argmin function to verify your solution."
      ],
      "metadata": {
        "id": "qQaqavf8pjhV"
      }
    },
    {
      "cell_type": "code",
      "source": [
        "def my_argmin(arr: np.ndarray) -> int:\n",
        "    min_index = 0\n",
        "    min_value = arr[0]\n",
        "\n",
        "    for i in range(1, len(arr)):\n",
        "        if arr[i] < min_value:\n",
        "            min_value = arr[i]\n",
        "            min_index = i\n",
        "    return min_index\n",
        "\n",
        "\n",
        "# Example usage\n",
        "arr = np.array([5, 3, 7, 1, 9, -2, 4])\n",
        "\n",
        "print(\"Array:\", arr)\n",
        "print(\"My argmin index:\", my_argmin(arr))\n",
        "print(\"np.argmin index:\", np.argmin(arr))\n"
      ],
      "metadata": {
        "colab": {
          "base_uri": "https://localhost:8080/"
        },
        "id": "lm0jR4uTpzWX",
        "outputId": "62d1ce6e-073f-4568-cd51-78a46814ae43"
      },
      "execution_count": 15,
      "outputs": [
        {
          "output_type": "stream",
          "name": "stdout",
          "text": [
            "Array: [ 5  3  7  1  9 -2  4]\n",
            "My argmin index: 5\n",
            "np.argmin index: 5\n"
          ]
        }
      ]
    }
  ]
}